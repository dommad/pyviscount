{
 "cells": [
  {
   "cell_type": "code",
   "execution_count": 2,
   "metadata": {},
   "outputs": [],
   "source": [
    "from pyviscount import run\n",
    "config_file = \"./data/config.ini\"\n",
    "tide_t = './data/tide-search.target.txt'\n",
    "tide_td = './data/tide-search.txt'\n",
    "tide_d = './data/tide-search.decoy.txt'\n"
   ]
  },
  {
   "cell_type": "code",
   "execution_count": null,
   "metadata": {},
   "outputs": [],
   "source": [
    "results = run.run_postsearch_validation(config_file, tide_t, tide_td, tide_d)"
   ]
  }
 ],
 "metadata": {
  "kernelspec": {
   "display_name": "ground_truth",
   "language": "python",
   "name": "python3"
  },
  "language_info": {
   "codemirror_mode": {
    "name": "ipython",
    "version": 3
   },
   "file_extension": ".py",
   "mimetype": "text/x-python",
   "name": "python",
   "nbconvert_exporter": "python",
   "pygments_lexer": "ipython3",
   "version": "3.9.18"
  }
 },
 "nbformat": 4,
 "nbformat_minor": 2
}
